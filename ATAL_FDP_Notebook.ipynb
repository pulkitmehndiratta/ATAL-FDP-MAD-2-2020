{
  "nbformat": 4,
  "nbformat_minor": 0,
  "metadata": {
    "kernelspec": {
      "display_name": "Python 3",
      "language": "python",
      "name": "python3"
    },
    "language_info": {
      "codemirror_mode": {
        "name": "ipython",
        "version": 3
      },
      "file_extension": ".py",
      "mimetype": "text/x-python",
      "name": "python",
      "nbconvert_exporter": "python",
      "pygments_lexer": "ipython3",
      "version": "3.8.2"
    },
    "colab": {
      "name": "ATAL FDP Notebook.ipynb",
      "provenance": []
    }
  },
  "cells": [
    {
      "cell_type": "markdown",
      "metadata": {
        "id": "-90LnM2THDja"
      },
      "source": [
        "# Welcome to the Notebook"
      ]
    },
    {
      "cell_type": "markdown",
      "metadata": {
        "id": "XghfhYPzHDjc"
      },
      "source": [
        "### Importing modules"
      ]
    },
    {
      "cell_type": "markdown",
      "metadata": {
        "id": "Mm9J6_YaHDjc"
      },
      "source": [
        "### Task 1"
      ]
    },
    {
      "cell_type": "code",
      "metadata": {
        "id": "ReYpSnreHDjd"
      },
      "source": [
        "import pandas as pd\n",
        "import numpy as np\n",
        "import plotly.express as px\n",
        "import matplotlib.pyplot as plt \n",
        "print('modules are imported')"
      ],
      "execution_count": null,
      "outputs": []
    },
    {
      "cell_type": "markdown",
      "metadata": {
        "id": "GGrpPf2tHDjg"
      },
      "source": [
        "### Task 1.1: \n",
        "#### Loading the Dataset use [link text](https://raw.githubusercontent.com/datasets/covid-19/master/data/countries-aggregated.csv)"
      ]
    },
    {
      "cell_type": "code",
      "metadata": {
        "id": "vU6PLkI6HDjh"
      },
      "source": [
        ""
      ],
      "execution_count": null,
      "outputs": []
    },
    {
      "cell_type": "markdown",
      "metadata": {
        "id": "brl_d8eGHDjj"
      },
      "source": [
        "### Task 1.2:\n",
        "#### let's check the dataframe "
      ]
    },
    {
      "cell_type": "code",
      "metadata": {
        "id": "Koknf570HDjl"
      },
      "source": [
        ""
      ],
      "execution_count": null,
      "outputs": []
    },
    {
      "cell_type": "code",
      "metadata": {
        "id": "Ogu3uUq_HDjq"
      },
      "source": [
        ""
      ],
      "execution_count": null,
      "outputs": []
    },
    {
      "cell_type": "markdown",
      "metadata": {
        "id": "7tOHUkSgHDjs"
      },
      "source": [
        "#### let's check the shape of the dataframe "
      ]
    },
    {
      "cell_type": "code",
      "metadata": {
        "id": "6BtQOP9qHDjt"
      },
      "source": [
        ""
      ],
      "execution_count": null,
      "outputs": []
    },
    {
      "cell_type": "markdown",
      "metadata": {
        "id": "H3FhYsaBHDjv"
      },
      "source": [
        "### Task 2.1 :\n",
        "#### let's do some preprocessing "
      ]
    },
    {
      "cell_type": "code",
      "metadata": {
        "id": "nzYPG5oDHDjw"
      },
      "source": [
        ""
      ],
      "execution_count": null,
      "outputs": []
    },
    {
      "cell_type": "code",
      "metadata": {
        "id": "rNjKpw2vHDjz"
      },
      "source": [
        ""
      ],
      "execution_count": null,
      "outputs": []
    },
    {
      "cell_type": "markdown",
      "metadata": {
        "id": "94M6f8N9HDj3"
      },
      "source": [
        "#### let's see data related to a country for example Italy \n"
      ]
    },
    {
      "cell_type": "code",
      "metadata": {
        "id": "ORnCw-YcHDj4"
      },
      "source": [
        ""
      ],
      "execution_count": null,
      "outputs": []
    },
    {
      "cell_type": "markdown",
      "metadata": {
        "id": "nMWl3Z-4HDj8"
      },
      "source": [
        "#### let's see Global spread of Covid19"
      ]
    },
    {
      "cell_type": "code",
      "metadata": {
        "id": "kIwc7Z9YHDj9"
      },
      "source": [
        ""
      ],
      "execution_count": null,
      "outputs": []
    },
    {
      "cell_type": "markdown",
      "metadata": {
        "id": "x_PHReebHDkA"
      },
      "source": [
        "### Task 2.2 : Exercise \n",
        "#### Let's see Global deaths of Covid19"
      ]
    },
    {
      "cell_type": "code",
      "metadata": {
        "id": "dITPy2isHDkB"
      },
      "source": [
        ""
      ],
      "execution_count": null,
      "outputs": []
    },
    {
      "cell_type": "markdown",
      "metadata": {
        "id": "EGM8uiC7HDkE"
      },
      "source": [
        "### Task 3.1:\n",
        "#### Let's Visualize how intensive the Covid19 Transmission has been in each of the country\n",
        "let's start with an example:"
      ]
    },
    {
      "cell_type": "code",
      "metadata": {
        "id": "0War7GIOHDkF"
      },
      "source": [
        ""
      ],
      "execution_count": null,
      "outputs": []
    },
    {
      "cell_type": "markdown",
      "metadata": {
        "id": "OfpujU35HDkL"
      },
      "source": [
        "let's select the columns that we need"
      ]
    },
    {
      "cell_type": "code",
      "metadata": {
        "id": "AbwFh6OaHDkL"
      },
      "source": [
        ""
      ],
      "execution_count": null,
      "outputs": []
    },
    {
      "cell_type": "code",
      "metadata": {
        "id": "-UMzinmDHDkN"
      },
      "source": [
        ""
      ],
      "execution_count": null,
      "outputs": []
    },
    {
      "cell_type": "markdown",
      "metadata": {
        "id": "WenIGNYkHDkQ"
      },
      "source": [
        "calculating the first derivation of confrimed column"
      ]
    },
    {
      "cell_type": "code",
      "metadata": {
        "id": "Bt2uxbvHHDkQ"
      },
      "source": [
        ""
      ],
      "execution_count": null,
      "outputs": []
    },
    {
      "cell_type": "code",
      "metadata": {
        "id": "LnK68ot7HDkT"
      },
      "source": [
        ""
      ],
      "execution_count": null,
      "outputs": []
    },
    {
      "cell_type": "code",
      "metadata": {
        "id": "TMvJ7MDYHDkW"
      },
      "source": [
        ""
      ],
      "execution_count": null,
      "outputs": []
    },
    {
      "cell_type": "code",
      "metadata": {
        "id": "zy47peETHDkZ"
      },
      "source": [
        ""
      ],
      "execution_count": null,
      "outputs": []
    },
    {
      "cell_type": "markdown",
      "metadata": {
        "id": "oK4KoADuHDkb"
      },
      "source": [
        "### Task 3.2:\n",
        "#### Let's Calculate Maximum infection rate for all of the countries"
      ]
    },
    {
      "cell_type": "code",
      "metadata": {
        "id": "gn0idol2HDkc"
      },
      "source": [
        "df.head()"
      ],
      "execution_count": null,
      "outputs": []
    },
    {
      "cell_type": "code",
      "metadata": {
        "id": "liGmMXYFHDke"
      },
      "source": [
        ""
      ],
      "execution_count": null,
      "outputs": []
    },
    {
      "cell_type": "markdown",
      "metadata": {
        "id": "GOdpJpD6HDkg"
      },
      "source": [
        "### Task 3.3:\n",
        "#### let's create a new Dataframe "
      ]
    },
    {
      "cell_type": "code",
      "metadata": {
        "id": "GPItRS0WHDkg"
      },
      "source": [
        ""
      ],
      "execution_count": null,
      "outputs": []
    },
    {
      "cell_type": "markdown",
      "metadata": {
        "id": "loZUxk2ZHDki"
      },
      "source": [
        "#### Let's plot the barchart : maximum infection rate of each country"
      ]
    },
    {
      "cell_type": "code",
      "metadata": {
        "id": "46H_wkWfHDki"
      },
      "source": [
        ""
      ],
      "execution_count": null,
      "outputs": []
    },
    {
      "cell_type": "markdown",
      "metadata": {
        "id": "E6Es6KkKHDkq"
      },
      "source": [
        "### Task 4: Let's See how National Lockdowns Impacts Covid19 transmission in India"
      ]
    },
    {
      "cell_type": "markdown",
      "metadata": {
        "id": "_E2PdBqLHDkr"
      },
      "source": [
        "### COVID19 pandemic lockdown in India \n",
        "On 23 March 2020, the government of India under Prime Minister Narender Modi imposed a national quarantine, restricting the movement of the population except for necessity, work, and health circumstances, in response to the growing pandemic of COVID-19 in the country. <a href=\"https://en.wikipedia.org/wiki/COVID-19_pandemic_lockdown_in_India\">source</a>"
      ]
    },
    {
      "cell_type": "code",
      "metadata": {
        "id": "T4aPutHhHDks"
      },
      "source": [
        "india_lockdown_start_date = '2020-03-24'\n",
        "india_lockdown_3_month_later = '2020-06-24'\n",
        "india_lockdown_4_month_later = '2020-07-24'\n",
        "india_lockdown_5_month_later = '2020-08-24'\n",
        "india_lockdown_6_month_later = '2020-09-24'"
      ],
      "execution_count": null,
      "outputs": []
    },
    {
      "cell_type": "code",
      "metadata": {
        "scrolled": true,
        "id": "ENSe_Yd_HDkx"
      },
      "source": [
        "df.head()"
      ],
      "execution_count": null,
      "outputs": []
    },
    {
      "cell_type": "markdown",
      "metadata": {
        "id": "ri46wHqkHDkz"
      },
      "source": [
        "let's get data related to India"
      ]
    },
    {
      "cell_type": "code",
      "metadata": {
        "id": "ngXvXRMGHDk0"
      },
      "source": [
        ""
      ],
      "execution_count": null,
      "outputs": []
    },
    {
      "cell_type": "markdown",
      "metadata": {
        "id": "RnZBe0yLHDk2"
      },
      "source": [
        "lets check the dataframe"
      ]
    },
    {
      "cell_type": "code",
      "metadata": {
        "id": "Bku0pYgLHDk2"
      },
      "source": [
        ""
      ],
      "execution_count": null,
      "outputs": []
    },
    {
      "cell_type": "markdown",
      "metadata": {
        "id": "SYtBcGfWHDk8"
      },
      "source": [
        "let's calculate the infection rate in India"
      ]
    },
    {
      "cell_type": "code",
      "metadata": {
        "id": "BvaSb-UvHDk9"
      },
      "source": [
        ""
      ],
      "execution_count": null,
      "outputs": []
    },
    {
      "cell_type": "markdown",
      "metadata": {
        "id": "RhDu_3g4HDlB"
      },
      "source": [
        "ok! now let's do the visualization"
      ]
    },
    {
      "cell_type": "code",
      "metadata": {
        "id": "VeJwixyjHDlC"
      },
      "source": [
        ""
      ],
      "execution_count": null,
      "outputs": []
    },
    {
      "cell_type": "markdown",
      "metadata": {
        "id": "gOXLSqHdHDlF"
      },
      "source": [
        "### Task 5: Let's See how National Lockdowns Impacts Covid19 active cases in India"
      ]
    },
    {
      "cell_type": "code",
      "metadata": {
        "id": "yOuG4NLNHDlF"
      },
      "source": [
        ""
      ],
      "execution_count": null,
      "outputs": []
    },
    {
      "cell_type": "markdown",
      "metadata": {
        "id": "K40LFe7ZHDlH"
      },
      "source": [
        "let's calculate the death rate "
      ]
    },
    {
      "cell_type": "code",
      "metadata": {
        "id": "kgXrocLLHDlH"
      },
      "source": [
        ""
      ],
      "execution_count": null,
      "outputs": []
    },
    {
      "cell_type": "markdown",
      "metadata": {
        "id": "RzVIKi_ZHDlM"
      },
      "source": [
        "Now lets plot this on a line chart to see the impact of spread of the virus and the number of deaths"
      ]
    },
    {
      "cell_type": "code",
      "metadata": {
        "id": "86nJN9A1HDlM"
      },
      "source": [
        ""
      ],
      "execution_count": null,
      "outputs": []
    },
    {
      "cell_type": "markdown",
      "metadata": {
        "id": "5ezOaesdHDlP"
      },
      "source": [
        "lets normalize our data between 0 and 1"
      ]
    },
    {
      "cell_type": "code",
      "metadata": {
        "id": "L3gxmNkEHDlP"
      },
      "source": [
        ""
      ],
      "execution_count": null,
      "outputs": []
    },
    {
      "cell_type": "markdown",
      "metadata": {
        "id": "ULatcrQcHDlR"
      },
      "source": [
        "### COVID19 pandemic lockdown in Germany \n",
        "Lockdown was started in Freiburg, Baden-Württemberg and Bavaria on 20 March 2020. Three days later, it was expanded to the whole of Germany"
      ]
    },
    {
      "cell_type": "code",
      "metadata": {
        "id": "CDUZv3jCHDlR"
      },
      "source": [
        "Germany_lockdown_start_date = '2020-03-23' \n",
        "Germany_lockdown_a_month_later = '2020-04-23'"
      ],
      "execution_count": null,
      "outputs": []
    },
    {
      "cell_type": "markdown",
      "metadata": {
        "id": "Tm4Sbgv7HDlT"
      },
      "source": [
        "let's select the data related to Germany"
      ]
    },
    {
      "cell_type": "code",
      "metadata": {
        "id": "z4EMYi4zHDlU"
      },
      "source": [
        ""
      ],
      "execution_count": null,
      "outputs": []
    },
    {
      "cell_type": "markdown",
      "metadata": {
        "id": "_4lu7ypZHDlY"
      },
      "source": [
        "let's check the dataframe "
      ]
    },
    {
      "cell_type": "code",
      "metadata": {
        "id": "PmjMvZ8oHDlY"
      },
      "source": [
        ""
      ],
      "execution_count": null,
      "outputs": []
    },
    {
      "cell_type": "markdown",
      "metadata": {
        "id": "vK5Zn3WSHDlc"
      },
      "source": [
        "selecting the needed column"
      ]
    },
    {
      "cell_type": "code",
      "metadata": {
        "id": "RUE_CuqqHDld"
      },
      "source": [
        ""
      ],
      "execution_count": null,
      "outputs": []
    },
    {
      "cell_type": "markdown",
      "metadata": {
        "id": "I_LgB1SBHDlh"
      },
      "source": [
        "let's check it again"
      ]
    },
    {
      "cell_type": "code",
      "metadata": {
        "id": "RoUy4MnfHDli"
      },
      "source": [
        ""
      ],
      "execution_count": null,
      "outputs": []
    },
    {
      "cell_type": "markdown",
      "metadata": {
        "id": "kuLNBR1rHDll"
      },
      "source": [
        "let's calculate the infection rate in Germany"
      ]
    },
    {
      "cell_type": "code",
      "metadata": {
        "id": "XJVOhEbfHDlm"
      },
      "source": [
        ""
      ],
      "execution_count": null,
      "outputs": []
    },
    {
      "cell_type": "markdown",
      "metadata": {
        "id": "hu4_i1kGHDls"
      },
      "source": [
        "let's check the dataframe"
      ]
    },
    {
      "cell_type": "code",
      "metadata": {
        "id": "hKIpBz0hHDlt"
      },
      "source": [
        ""
      ],
      "execution_count": null,
      "outputs": []
    },
    {
      "cell_type": "markdown",
      "metadata": {
        "id": "_fz3_vEFHDlw"
      },
      "source": [
        "now let's plot the line chart"
      ]
    },
    {
      "cell_type": "code",
      "metadata": {
        "id": "zn_xHn0ZHDlx"
      },
      "source": [
        ""
      ],
      "execution_count": null,
      "outputs": []
    },
    {
      "cell_type": "code",
      "metadata": {
        "id": "-mmCdOmeHDl0"
      },
      "source": [
        ""
      ],
      "execution_count": null,
      "outputs": []
    },
    {
      "cell_type": "markdown",
      "metadata": {
        "id": "y6oiIV5-HDl3"
      },
      "source": [
        "let's do some scaling"
      ]
    },
    {
      "cell_type": "code",
      "metadata": {
        "id": "o4Fvv85KHDl3"
      },
      "source": [
        ""
      ],
      "execution_count": null,
      "outputs": []
    },
    {
      "cell_type": "markdown",
      "metadata": {
        "id": "Wn_NaPswHDl6"
      },
      "source": [
        "let's plot the line chart"
      ]
    },
    {
      "cell_type": "code",
      "metadata": {
        "id": "tvi5Y-FmHDl7"
      },
      "source": [
        ""
      ],
      "execution_count": null,
      "outputs": []
    }
  ]
}